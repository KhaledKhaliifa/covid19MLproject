{
 "cells": [
  {
   "cell_type": "markdown",
   "id": "f85670a8",
   "metadata": {},
   "source": [
    "# Team ID: 19\n",
    "\n",
    "# Mohamed Magdy Mostafa &nbsp;&nbsp;&nbsp;&nbsp;&nbsp;18P5160\n",
    "# Khaled Medhat Mahmoud &nbsp;&nbsp;&nbsp;&nbsp;&nbsp;18P3557"
   ]
  },
  {
   "cell_type": "markdown",
   "id": "166b69e5",
   "metadata": {},
   "source": [
    "## Importing Libraries"
   ]
  },
  {
   "cell_type": "code",
   "execution_count": 1,
   "id": "2cc9d0b7",
   "metadata": {},
   "outputs": [],
   "source": [
    "import pandas as pd\n",
    "import numpy as np\n",
    "import matplotlib.pyplot as plt\n",
    "%matplotlib inline\n",
    "from sklearn.metrics import f1_score\n",
    "from sklearn.model_selection import train_test_split\n",
    "from sklearn.metrics import classification_report, confusion_matrix\n",
    "from sklearn import metrics\n",
    "from sklearn.metrics import roc_auc_score\n",
    "from sklearn.model_selection import GridSearchCV\n",
    "from sklearn.naive_bayes import GaussianNB\n",
    "from sklearn.linear_model import LogisticRegression\n",
    "from sklearn.neighbors import KNeighborsClassifier\n",
    "from sklearn.model_selection import cross_val_score\n",
    "from sklearn import preprocessing\n",
    "from sklearn.feature_selection import SelectKBest, chi2\n",
    "import warnings\n",
    "warnings.filterwarnings('ignore')\n"
   ]
  },
  {
   "cell_type": "markdown",
   "id": "6cb4db71",
   "metadata": {},
   "source": [
    "### Reading data"
   ]
  },
  {
   "cell_type": "code",
   "execution_count": 2,
   "id": "d9122dcf",
   "metadata": {},
   "outputs": [
    {
     "data": {
      "text/html": [
       "<div>\n",
       "<style scoped>\n",
       "    .dataframe tbody tr th:only-of-type {\n",
       "        vertical-align: middle;\n",
       "    }\n",
       "\n",
       "    .dataframe tbody tr th {\n",
       "        vertical-align: top;\n",
       "    }\n",
       "\n",
       "    .dataframe thead th {\n",
       "        text-align: right;\n",
       "    }\n",
       "</style>\n",
       "<table border=\"1\" class=\"dataframe\">\n",
       "  <thead>\n",
       "    <tr style=\"text-align: right;\">\n",
       "      <th></th>\n",
       "      <th>Unnamed: 0</th>\n",
       "      <th>location</th>\n",
       "      <th>country</th>\n",
       "      <th>gender</th>\n",
       "      <th>age</th>\n",
       "      <th>vis_wuhan</th>\n",
       "      <th>from_wuhan</th>\n",
       "      <th>symptom1</th>\n",
       "      <th>symptom2</th>\n",
       "      <th>symptom3</th>\n",
       "      <th>symptom4</th>\n",
       "      <th>symptom5</th>\n",
       "      <th>symptom6</th>\n",
       "      <th>diff_sym_hos</th>\n",
       "      <th>result</th>\n",
       "    </tr>\n",
       "  </thead>\n",
       "  <tbody>\n",
       "    <tr>\n",
       "      <th>0</th>\n",
       "      <td>0</td>\n",
       "      <td>104</td>\n",
       "      <td>8</td>\n",
       "      <td>1</td>\n",
       "      <td>66.0</td>\n",
       "      <td>1</td>\n",
       "      <td>0</td>\n",
       "      <td>14</td>\n",
       "      <td>31</td>\n",
       "      <td>19</td>\n",
       "      <td>12</td>\n",
       "      <td>3</td>\n",
       "      <td>1</td>\n",
       "      <td>8</td>\n",
       "      <td>1</td>\n",
       "    </tr>\n",
       "    <tr>\n",
       "      <th>1</th>\n",
       "      <td>1</td>\n",
       "      <td>101</td>\n",
       "      <td>8</td>\n",
       "      <td>0</td>\n",
       "      <td>56.0</td>\n",
       "      <td>0</td>\n",
       "      <td>1</td>\n",
       "      <td>14</td>\n",
       "      <td>31</td>\n",
       "      <td>19</td>\n",
       "      <td>12</td>\n",
       "      <td>3</td>\n",
       "      <td>1</td>\n",
       "      <td>0</td>\n",
       "      <td>0</td>\n",
       "    </tr>\n",
       "    <tr>\n",
       "      <th>2</th>\n",
       "      <td>2</td>\n",
       "      <td>137</td>\n",
       "      <td>8</td>\n",
       "      <td>1</td>\n",
       "      <td>46.0</td>\n",
       "      <td>0</td>\n",
       "      <td>1</td>\n",
       "      <td>14</td>\n",
       "      <td>31</td>\n",
       "      <td>19</td>\n",
       "      <td>12</td>\n",
       "      <td>3</td>\n",
       "      <td>1</td>\n",
       "      <td>13</td>\n",
       "      <td>0</td>\n",
       "    </tr>\n",
       "    <tr>\n",
       "      <th>3</th>\n",
       "      <td>3</td>\n",
       "      <td>116</td>\n",
       "      <td>8</td>\n",
       "      <td>0</td>\n",
       "      <td>60.0</td>\n",
       "      <td>1</td>\n",
       "      <td>0</td>\n",
       "      <td>14</td>\n",
       "      <td>31</td>\n",
       "      <td>19</td>\n",
       "      <td>12</td>\n",
       "      <td>3</td>\n",
       "      <td>1</td>\n",
       "      <td>0</td>\n",
       "      <td>0</td>\n",
       "    </tr>\n",
       "    <tr>\n",
       "      <th>4</th>\n",
       "      <td>4</td>\n",
       "      <td>116</td>\n",
       "      <td>8</td>\n",
       "      <td>1</td>\n",
       "      <td>58.0</td>\n",
       "      <td>0</td>\n",
       "      <td>0</td>\n",
       "      <td>14</td>\n",
       "      <td>31</td>\n",
       "      <td>19</td>\n",
       "      <td>12</td>\n",
       "      <td>3</td>\n",
       "      <td>1</td>\n",
       "      <td>0</td>\n",
       "      <td>0</td>\n",
       "    </tr>\n",
       "  </tbody>\n",
       "</table>\n",
       "</div>"
      ],
      "text/plain": [
       "   Unnamed: 0  location  country  gender   age  vis_wuhan  from_wuhan  \\\n",
       "0           0       104        8       1  66.0          1           0   \n",
       "1           1       101        8       0  56.0          0           1   \n",
       "2           2       137        8       1  46.0          0           1   \n",
       "3           3       116        8       0  60.0          1           0   \n",
       "4           4       116        8       1  58.0          0           0   \n",
       "\n",
       "   symptom1  symptom2  symptom3  symptom4  symptom5  symptom6  diff_sym_hos  \\\n",
       "0        14        31        19        12         3         1             8   \n",
       "1        14        31        19        12         3         1             0   \n",
       "2        14        31        19        12         3         1            13   \n",
       "3        14        31        19        12         3         1             0   \n",
       "4        14        31        19        12         3         1             0   \n",
       "\n",
       "   result  \n",
       "0       1  \n",
       "1       0  \n",
       "2       0  \n",
       "3       0  \n",
       "4       0  "
      ]
     },
     "execution_count": 2,
     "metadata": {},
     "output_type": "execute_result"
    }
   ],
   "source": [
    "raw = pd.read_csv(\"data.csv\")\n",
    "raw.head()"
   ]
  },
  {
   "cell_type": "markdown",
   "id": "ce74c374",
   "metadata": {},
   "source": [
    "# Investigating data"
   ]
  },
  {
   "cell_type": "code",
   "execution_count": 3,
   "id": "0ed9c7eb",
   "metadata": {},
   "outputs": [],
   "source": [
    "raw.drop(\"Unnamed: 0\",axis = 1, inplace=True)"
   ]
  },
  {
   "cell_type": "code",
   "execution_count": 4,
   "id": "dc47dee1",
   "metadata": {},
   "outputs": [
    {
     "data": {
      "text/plain": [
       "(863, 14)"
      ]
     },
     "execution_count": 4,
     "metadata": {},
     "output_type": "execute_result"
    }
   ],
   "source": [
    "raw.shape"
   ]
  },
  {
   "cell_type": "code",
   "execution_count": 5,
   "id": "b2dfa0be",
   "metadata": {
    "scrolled": false
   },
   "outputs": [
    {
     "name": "stdout",
     "output_type": "stream",
     "text": [
      "<class 'pandas.core.frame.DataFrame'>\n",
      "RangeIndex: 863 entries, 0 to 862\n",
      "Data columns (total 14 columns):\n",
      " #   Column        Non-Null Count  Dtype  \n",
      "---  ------        --------------  -----  \n",
      " 0   location      863 non-null    int64  \n",
      " 1   country       863 non-null    int64  \n",
      " 2   gender        863 non-null    int64  \n",
      " 3   age           863 non-null    float64\n",
      " 4   vis_wuhan     863 non-null    int64  \n",
      " 5   from_wuhan    863 non-null    int64  \n",
      " 6   symptom1      863 non-null    int64  \n",
      " 7   symptom2      863 non-null    int64  \n",
      " 8   symptom3      863 non-null    int64  \n",
      " 9   symptom4      863 non-null    int64  \n",
      " 10  symptom5      863 non-null    int64  \n",
      " 11  symptom6      863 non-null    int64  \n",
      " 12  diff_sym_hos  863 non-null    int64  \n",
      " 13  result        863 non-null    int64  \n",
      "dtypes: float64(1), int64(13)\n",
      "memory usage: 94.5 KB\n"
     ]
    }
   ],
   "source": [
    "raw.info()"
   ]
  },
  {
   "cell_type": "code",
   "execution_count": 6,
   "id": "bdf6c0b8",
   "metadata": {},
   "outputs": [
    {
     "data": {
      "text/html": [
       "<div>\n",
       "<style scoped>\n",
       "    .dataframe tbody tr th:only-of-type {\n",
       "        vertical-align: middle;\n",
       "    }\n",
       "\n",
       "    .dataframe tbody tr th {\n",
       "        vertical-align: top;\n",
       "    }\n",
       "\n",
       "    .dataframe thead th {\n",
       "        text-align: right;\n",
       "    }\n",
       "</style>\n",
       "<table border=\"1\" class=\"dataframe\">\n",
       "  <thead>\n",
       "    <tr style=\"text-align: right;\">\n",
       "      <th></th>\n",
       "      <th>location</th>\n",
       "      <th>country</th>\n",
       "      <th>gender</th>\n",
       "      <th>age</th>\n",
       "      <th>vis_wuhan</th>\n",
       "      <th>from_wuhan</th>\n",
       "      <th>symptom1</th>\n",
       "      <th>symptom2</th>\n",
       "      <th>symptom3</th>\n",
       "      <th>symptom4</th>\n",
       "      <th>symptom5</th>\n",
       "      <th>symptom6</th>\n",
       "      <th>diff_sym_hos</th>\n",
       "      <th>result</th>\n",
       "    </tr>\n",
       "  </thead>\n",
       "  <tbody>\n",
       "    <tr>\n",
       "      <th>count</th>\n",
       "      <td>863.000000</td>\n",
       "      <td>863.000000</td>\n",
       "      <td>863.000000</td>\n",
       "      <td>863.000000</td>\n",
       "      <td>863.000000</td>\n",
       "      <td>863.000000</td>\n",
       "      <td>863.00000</td>\n",
       "      <td>863.000000</td>\n",
       "      <td>863.000000</td>\n",
       "      <td>863.000000</td>\n",
       "      <td>863.000000</td>\n",
       "      <td>863.000000</td>\n",
       "      <td>863.000000</td>\n",
       "      <td>863.000000</td>\n",
       "    </tr>\n",
       "    <tr>\n",
       "      <th>mean</th>\n",
       "      <td>76.645423</td>\n",
       "      <td>16.995365</td>\n",
       "      <td>0.849363</td>\n",
       "      <td>49.400000</td>\n",
       "      <td>0.181924</td>\n",
       "      <td>0.107764</td>\n",
       "      <td>12.13905</td>\n",
       "      <td>28.002317</td>\n",
       "      <td>18.298957</td>\n",
       "      <td>11.840093</td>\n",
       "      <td>2.993048</td>\n",
       "      <td>0.998841</td>\n",
       "      <td>0.995365</td>\n",
       "      <td>0.125145</td>\n",
       "    </tr>\n",
       "    <tr>\n",
       "      <th>std</th>\n",
       "      <td>39.200264</td>\n",
       "      <td>7.809951</td>\n",
       "      <td>0.726062</td>\n",
       "      <td>15.079203</td>\n",
       "      <td>0.386005</td>\n",
       "      <td>0.310261</td>\n",
       "      <td>3.99787</td>\n",
       "      <td>7.473231</td>\n",
       "      <td>2.864064</td>\n",
       "      <td>1.183771</td>\n",
       "      <td>0.127251</td>\n",
       "      <td>0.034040</td>\n",
       "      <td>2.358767</td>\n",
       "      <td>0.331075</td>\n",
       "    </tr>\n",
       "    <tr>\n",
       "      <th>min</th>\n",
       "      <td>0.000000</td>\n",
       "      <td>0.000000</td>\n",
       "      <td>0.000000</td>\n",
       "      <td>2.000000</td>\n",
       "      <td>0.000000</td>\n",
       "      <td>0.000000</td>\n",
       "      <td>0.00000</td>\n",
       "      <td>0.000000</td>\n",
       "      <td>0.000000</td>\n",
       "      <td>0.000000</td>\n",
       "      <td>0.000000</td>\n",
       "      <td>0.000000</td>\n",
       "      <td>-5.000000</td>\n",
       "      <td>0.000000</td>\n",
       "    </tr>\n",
       "    <tr>\n",
       "      <th>25%</th>\n",
       "      <td>45.000000</td>\n",
       "      <td>11.000000</td>\n",
       "      <td>0.000000</td>\n",
       "      <td>40.000000</td>\n",
       "      <td>0.000000</td>\n",
       "      <td>0.000000</td>\n",
       "      <td>14.00000</td>\n",
       "      <td>31.000000</td>\n",
       "      <td>19.000000</td>\n",
       "      <td>12.000000</td>\n",
       "      <td>3.000000</td>\n",
       "      <td>1.000000</td>\n",
       "      <td>0.000000</td>\n",
       "      <td>0.000000</td>\n",
       "    </tr>\n",
       "    <tr>\n",
       "      <th>50%</th>\n",
       "      <td>87.000000</td>\n",
       "      <td>18.000000</td>\n",
       "      <td>1.000000</td>\n",
       "      <td>49.400000</td>\n",
       "      <td>0.000000</td>\n",
       "      <td>0.000000</td>\n",
       "      <td>14.00000</td>\n",
       "      <td>31.000000</td>\n",
       "      <td>19.000000</td>\n",
       "      <td>12.000000</td>\n",
       "      <td>3.000000</td>\n",
       "      <td>1.000000</td>\n",
       "      <td>0.000000</td>\n",
       "      <td>0.000000</td>\n",
       "    </tr>\n",
       "    <tr>\n",
       "      <th>75%</th>\n",
       "      <td>110.000000</td>\n",
       "      <td>24.000000</td>\n",
       "      <td>1.000000</td>\n",
       "      <td>57.000000</td>\n",
       "      <td>0.000000</td>\n",
       "      <td>0.000000</td>\n",
       "      <td>14.00000</td>\n",
       "      <td>31.000000</td>\n",
       "      <td>19.000000</td>\n",
       "      <td>12.000000</td>\n",
       "      <td>3.000000</td>\n",
       "      <td>1.000000</td>\n",
       "      <td>1.000000</td>\n",
       "      <td>0.000000</td>\n",
       "    </tr>\n",
       "    <tr>\n",
       "      <th>max</th>\n",
       "      <td>138.000000</td>\n",
       "      <td>33.000000</td>\n",
       "      <td>2.000000</td>\n",
       "      <td>96.000000</td>\n",
       "      <td>1.000000</td>\n",
       "      <td>1.000000</td>\n",
       "      <td>24.00000</td>\n",
       "      <td>31.000000</td>\n",
       "      <td>19.000000</td>\n",
       "      <td>12.000000</td>\n",
       "      <td>3.000000</td>\n",
       "      <td>1.000000</td>\n",
       "      <td>15.000000</td>\n",
       "      <td>1.000000</td>\n",
       "    </tr>\n",
       "  </tbody>\n",
       "</table>\n",
       "</div>"
      ],
      "text/plain": [
       "         location     country      gender         age   vis_wuhan  from_wuhan  \\\n",
       "count  863.000000  863.000000  863.000000  863.000000  863.000000  863.000000   \n",
       "mean    76.645423   16.995365    0.849363   49.400000    0.181924    0.107764   \n",
       "std     39.200264    7.809951    0.726062   15.079203    0.386005    0.310261   \n",
       "min      0.000000    0.000000    0.000000    2.000000    0.000000    0.000000   \n",
       "25%     45.000000   11.000000    0.000000   40.000000    0.000000    0.000000   \n",
       "50%     87.000000   18.000000    1.000000   49.400000    0.000000    0.000000   \n",
       "75%    110.000000   24.000000    1.000000   57.000000    0.000000    0.000000   \n",
       "max    138.000000   33.000000    2.000000   96.000000    1.000000    1.000000   \n",
       "\n",
       "        symptom1    symptom2    symptom3    symptom4    symptom5    symptom6  \\\n",
       "count  863.00000  863.000000  863.000000  863.000000  863.000000  863.000000   \n",
       "mean    12.13905   28.002317   18.298957   11.840093    2.993048    0.998841   \n",
       "std      3.99787    7.473231    2.864064    1.183771    0.127251    0.034040   \n",
       "min      0.00000    0.000000    0.000000    0.000000    0.000000    0.000000   \n",
       "25%     14.00000   31.000000   19.000000   12.000000    3.000000    1.000000   \n",
       "50%     14.00000   31.000000   19.000000   12.000000    3.000000    1.000000   \n",
       "75%     14.00000   31.000000   19.000000   12.000000    3.000000    1.000000   \n",
       "max     24.00000   31.000000   19.000000   12.000000    3.000000    1.000000   \n",
       "\n",
       "       diff_sym_hos      result  \n",
       "count    863.000000  863.000000  \n",
       "mean       0.995365    0.125145  \n",
       "std        2.358767    0.331075  \n",
       "min       -5.000000    0.000000  \n",
       "25%        0.000000    0.000000  \n",
       "50%        0.000000    0.000000  \n",
       "75%        1.000000    0.000000  \n",
       "max       15.000000    1.000000  "
      ]
     },
     "execution_count": 6,
     "metadata": {},
     "output_type": "execute_result"
    }
   ],
   "source": [
    "raw.describe()"
   ]
  },
  {
   "cell_type": "code",
   "execution_count": 7,
   "id": "da311d56",
   "metadata": {
    "scrolled": true
   },
   "outputs": [
    {
     "name": "stdout",
     "output_type": "stream",
     "text": [
      "location \t 139\n",
      "country \t 34\n",
      "symptom1 \t 25\n",
      "symptom2 \t 32\n",
      "symptom3 \t 20\n",
      "symptom4 \t 13\n",
      "symptom5 \t 4\n",
      "symptom6 \t 2\n",
      "diff_sym_hos \t 18\n"
     ]
    }
   ],
   "source": [
    "featureList = ['location','country','symptom1','symptom2','symptom3','symptom4','symptom5','symptom6','diff_sym_hos']\n",
    "for i in featureList:\n",
    "    print(f\"{i} \\t {raw[i].nunique()}\")"
   ]
  },
  {
   "cell_type": "code",
   "execution_count": 8,
   "id": "0f0415c0",
   "metadata": {},
   "outputs": [
    {
     "data": {
      "image/png": "[encoded data removed]",
      "text/plain": [
       "<Figure size 432x288 with 1 Axes>"
      ]
     },
     "metadata": {},
     "output_type": "display_data"
    }
   ],
   "source": [
    "gender = raw['gender'].value_counts()\n",
    "gender.plot.pie(title ='Total Gender percentage', ylabel='', autopct='%1.1f%%');"
   ]
  },
  {
   "cell_type": "code",
   "execution_count": 9,
   "id": "93e16388",
   "metadata": {},
   "outputs": [
    {
     "data": {
      "text/html": [
       "<div>\n",
       "<style scoped>\n",
       "    .dataframe tbody tr th:only-of-type {\n",
       "        vertical-align: middle;\n",
       "    }\n",
       "\n",
       "    .dataframe tbody tr th {\n",
       "        vertical-align: top;\n",
       "    }\n",
       "\n",
       "    .dataframe thead th {\n",
       "        text-align: right;\n",
       "    }\n",
       "</style>\n",
       "<table border=\"1\" class=\"dataframe\">\n",
       "  <thead>\n",
       "    <tr style=\"text-align: right;\">\n",
       "      <th></th>\n",
       "      <th>location</th>\n",
       "      <th>country</th>\n",
       "      <th>gender</th>\n",
       "      <th>age</th>\n",
       "      <th>vis_wuhan</th>\n",
       "      <th>from_wuhan</th>\n",
       "      <th>symptom1</th>\n",
       "      <th>symptom2</th>\n",
       "      <th>symptom3</th>\n",
       "      <th>symptom4</th>\n",
       "      <th>symptom5</th>\n",
       "      <th>symptom6</th>\n",
       "      <th>diff_sym_hos</th>\n",
       "      <th>result</th>\n",
       "    </tr>\n",
       "  </thead>\n",
       "  <tbody>\n",
       "    <tr>\n",
       "      <th>223</th>\n",
       "      <td>56</td>\n",
       "      <td>18</td>\n",
       "      <td>1</td>\n",
       "      <td>35.0</td>\n",
       "      <td>0</td>\n",
       "      <td>0</td>\n",
       "      <td>6</td>\n",
       "      <td>31</td>\n",
       "      <td>19</td>\n",
       "      <td>12</td>\n",
       "      <td>3</td>\n",
       "      <td>1</td>\n",
       "      <td>-1</td>\n",
       "      <td>0</td>\n",
       "    </tr>\n",
       "    <tr>\n",
       "      <th>240</th>\n",
       "      <td>128</td>\n",
       "      <td>18</td>\n",
       "      <td>1</td>\n",
       "      <td>65.0</td>\n",
       "      <td>0</td>\n",
       "      <td>0</td>\n",
       "      <td>6</td>\n",
       "      <td>31</td>\n",
       "      <td>19</td>\n",
       "      <td>12</td>\n",
       "      <td>3</td>\n",
       "      <td>1</td>\n",
       "      <td>-5</td>\n",
       "      <td>0</td>\n",
       "    </tr>\n",
       "  </tbody>\n",
       "</table>\n",
       "</div>"
      ],
      "text/plain": [
       "     location  country  gender   age  vis_wuhan  from_wuhan  symptom1  \\\n",
       "223        56       18       1  35.0          0           0         6   \n",
       "240       128       18       1  65.0          0           0         6   \n",
       "\n",
       "     symptom2  symptom3  symptom4  symptom5  symptom6  diff_sym_hos  result  \n",
       "223        31        19        12         3         1            -1       0  \n",
       "240        31        19        12         3         1            -5       0  "
      ]
     },
     "execution_count": 9,
     "metadata": {},
     "output_type": "execute_result"
    }
   ],
   "source": [
    "raw[raw.diff_sym_hos < 0]"
   ]
  },
  {
   "cell_type": "markdown",
   "id": "d9be8f04",
   "metadata": {},
   "source": [
    "### Dropping the two rows where diff_sym_hos is negative"
   ]
  },
  {
   "cell_type": "code",
   "execution_count": 10,
   "id": "1d05e1c6",
   "metadata": {},
   "outputs": [],
   "source": [
    "raw.drop(240,axis = 0, inplace=True)\n",
    "raw.drop(223,axis = 0, inplace=True)"
   ]
  },
  {
   "cell_type": "markdown",
   "id": "3f5f80e4",
   "metadata": {},
   "source": [
    "### By observing this sample, we noticed that each country has a specific location"
   ]
  },
  {
   "cell_type": "code",
   "execution_count": 11,
   "id": "8358e373",
   "metadata": {},
   "outputs": [
    {
     "data": {
      "text/plain": [
       "location  country\n",
       "0         0           1\n",
       "1         18          7\n",
       "2         14          1\n",
       "3         1           1\n",
       "4         11          1\n",
       "5         25          8\n",
       "6         11          4\n",
       "7         15          1\n",
       "8         32          1\n",
       "9         12         11\n",
       "10        4          17\n",
       "11        25          3\n",
       "12        12         15\n",
       "13        8          18\n",
       "14        5           1\n",
       "15        27          1\n",
       "16        11          1\n",
       "17        11          1\n",
       "18        11          1\n",
       "19        32         11\n",
       "20        25          1\n",
       "21        25          2\n",
       "22        18         10\n",
       "23        8           1\n",
       "24        9           1\n",
       "25        11          4\n",
       "26        13          1\n",
       "27        11          6\n",
       "28        12          2\n",
       "29        8           1\n",
       "30        18          2\n",
       "31        8           3\n",
       "32        18          2\n",
       "33        8           5\n",
       "34        15          2\n",
       "35        8           3\n",
       "36        12          1\n",
       "37        18          1\n",
       "38        33          2\n",
       "39        8           1\n",
       "40        8           2\n",
       "41        8           2\n",
       "42        8           4\n",
       "43        12          1\n",
       "44        18         43\n",
       "45        13         78\n",
       "46        8           5\n",
       "47        8           1\n",
       "48        3           2\n",
       "49        18          4\n",
       "Name: gender, dtype: int64"
      ]
     },
     "execution_count": 11,
     "metadata": {},
     "output_type": "execute_result"
    }
   ],
   "source": [
    "gender_showed = raw.groupby([\"location\",\"country\"]).gender.count()\n",
    "gender_showed.head(50)"
   ]
  },
  {
   "cell_type": "code",
   "execution_count": 12,
   "id": "4cda6ed1",
   "metadata": {
    "scrolled": true
   },
   "outputs": [
    {
     "data": {
      "text/html": [
       "<div>\n",
       "<style scoped>\n",
       "    .dataframe tbody tr th:only-of-type {\n",
       "        vertical-align: middle;\n",
       "    }\n",
       "\n",
       "    .dataframe tbody tr th {\n",
       "        vertical-align: top;\n",
       "    }\n",
       "\n",
       "    .dataframe thead th {\n",
       "        text-align: right;\n",
       "    }\n",
       "</style>\n",
       "<table border=\"1\" class=\"dataframe\">\n",
       "  <thead>\n",
       "    <tr style=\"text-align: right;\">\n",
       "      <th></th>\n",
       "      <th>location</th>\n",
       "      <th>country</th>\n",
       "      <th>gender</th>\n",
       "      <th>age</th>\n",
       "      <th>vis_wuhan</th>\n",
       "      <th>from_wuhan</th>\n",
       "      <th>symptom1</th>\n",
       "      <th>symptom2</th>\n",
       "      <th>symptom3</th>\n",
       "      <th>symptom4</th>\n",
       "      <th>symptom5</th>\n",
       "      <th>symptom6</th>\n",
       "      <th>diff_sym_hos</th>\n",
       "      <th>result</th>\n",
       "    </tr>\n",
       "  </thead>\n",
       "  <tbody>\n",
       "    <tr>\n",
       "      <th>0</th>\n",
       "      <td>104</td>\n",
       "      <td>8</td>\n",
       "      <td>1</td>\n",
       "      <td>66.0</td>\n",
       "      <td>1</td>\n",
       "      <td>0</td>\n",
       "      <td>14</td>\n",
       "      <td>31</td>\n",
       "      <td>19</td>\n",
       "      <td>12</td>\n",
       "      <td>3</td>\n",
       "      <td>1</td>\n",
       "      <td>8</td>\n",
       "      <td>1</td>\n",
       "    </tr>\n",
       "    <tr>\n",
       "      <th>1</th>\n",
       "      <td>101</td>\n",
       "      <td>8</td>\n",
       "      <td>0</td>\n",
       "      <td>56.0</td>\n",
       "      <td>0</td>\n",
       "      <td>1</td>\n",
       "      <td>14</td>\n",
       "      <td>31</td>\n",
       "      <td>19</td>\n",
       "      <td>12</td>\n",
       "      <td>3</td>\n",
       "      <td>1</td>\n",
       "      <td>0</td>\n",
       "      <td>0</td>\n",
       "    </tr>\n",
       "    <tr>\n",
       "      <th>2</th>\n",
       "      <td>137</td>\n",
       "      <td>8</td>\n",
       "      <td>1</td>\n",
       "      <td>46.0</td>\n",
       "      <td>0</td>\n",
       "      <td>1</td>\n",
       "      <td>14</td>\n",
       "      <td>31</td>\n",
       "      <td>19</td>\n",
       "      <td>12</td>\n",
       "      <td>3</td>\n",
       "      <td>1</td>\n",
       "      <td>13</td>\n",
       "      <td>0</td>\n",
       "    </tr>\n",
       "    <tr>\n",
       "      <th>3</th>\n",
       "      <td>116</td>\n",
       "      <td>8</td>\n",
       "      <td>0</td>\n",
       "      <td>60.0</td>\n",
       "      <td>1</td>\n",
       "      <td>0</td>\n",
       "      <td>14</td>\n",
       "      <td>31</td>\n",
       "      <td>19</td>\n",
       "      <td>12</td>\n",
       "      <td>3</td>\n",
       "      <td>1</td>\n",
       "      <td>0</td>\n",
       "      <td>0</td>\n",
       "    </tr>\n",
       "    <tr>\n",
       "      <th>4</th>\n",
       "      <td>116</td>\n",
       "      <td>8</td>\n",
       "      <td>1</td>\n",
       "      <td>58.0</td>\n",
       "      <td>0</td>\n",
       "      <td>0</td>\n",
       "      <td>14</td>\n",
       "      <td>31</td>\n",
       "      <td>19</td>\n",
       "      <td>12</td>\n",
       "      <td>3</td>\n",
       "      <td>1</td>\n",
       "      <td>0</td>\n",
       "      <td>0</td>\n",
       "    </tr>\n",
       "  </tbody>\n",
       "</table>\n",
       "</div>"
      ],
      "text/plain": [
       "   location  country  gender   age  vis_wuhan  from_wuhan  symptom1  symptom2  \\\n",
       "0       104        8       1  66.0          1           0        14        31   \n",
       "1       101        8       0  56.0          0           1        14        31   \n",
       "2       137        8       1  46.0          0           1        14        31   \n",
       "3       116        8       0  60.0          1           0        14        31   \n",
       "4       116        8       1  58.0          0           0        14        31   \n",
       "\n",
       "   symptom3  symptom4  symptom5  symptom6  diff_sym_hos  result  \n",
       "0        19        12         3         1             8       1  \n",
       "1        19        12         3         1             0       0  \n",
       "2        19        12         3         1            13       0  \n",
       "3        19        12         3         1             0       0  \n",
       "4        19        12         3         1             0       0  "
      ]
     },
     "execution_count": 12,
     "metadata": {},
     "output_type": "execute_result"
    }
   ],
   "source": [
    "df = raw.copy()\n",
    "df.head()"
   ]
  },
  {
   "cell_type": "markdown",
   "id": "6c73b3b7",
   "metadata": {},
   "source": [
    "### Dropping the gender feature"
   ]
  },
  {
   "cell_type": "code",
   "execution_count": 13,
   "id": "c27bae3b",
   "metadata": {},
   "outputs": [],
   "source": [
    "df.drop(\"gender\",axis = 1, inplace=True) #Dropping gender seems like the optimal solution to the three genders problem\n",
    "                                         #so we don't affect the data results"
   ]
  },
  {
   "cell_type": "markdown",
   "id": "10aa3d15",
   "metadata": {},
   "source": [
    "### One hot encoding and merging of the features \"location\" and \"country\""
   ]
  },
  {
   "cell_type": "code",
   "execution_count": 14,
   "id": "042bd679",
   "metadata": {},
   "outputs": [],
   "source": [
    "categorical_columns = ['location','country']\n",
    "for column in categorical_columns:\n",
    "    tempdf = pd.get_dummies(df[column], prefix=column)\n",
    "    df = pd.merge(\n",
    "        left=df,\n",
    "        right=tempdf,\n",
    "        left_index=True,\n",
    "        right_index=True,\n",
    "    )\n",
    "    df = df.drop(columns=column)\n"
   ]
  },
  {
   "cell_type": "markdown",
   "id": "77f57e94",
   "metadata": {},
   "source": [
    "### Splitting the data into features and target variables"
   ]
  },
  {
   "cell_type": "code",
   "execution_count": 15,
   "id": "a3ba559f",
   "metadata": {},
   "outputs": [],
   "source": [
    "x = df.loc[:, df.columns != 'result']\n",
    "y = df.result"
   ]
  },
  {
   "cell_type": "markdown",
   "id": "d1a02378",
   "metadata": {},
   "source": [
    "###  Normalizing data and selecting number of features "
   ]
  },
  {
   "cell_type": "code",
   "execution_count": 16,
   "id": "d7deefc4",
   "metadata": {
    "scrolled": false
   },
   "outputs": [],
   "source": [
    "d = preprocessing.normalize(x)\n",
    "\n",
    "names = x.columns.values.tolist()\n",
    "scaled_df = pd.DataFrame(d, columns = names)"
   ]
  },
  {
   "cell_type": "code",
   "execution_count": 17,
   "id": "be0d12d7",
   "metadata": {},
   "outputs": [
    {
     "data": {
      "text/plain": [
       "(861, 14)"
      ]
     },
     "execution_count": 17,
     "metadata": {},
     "output_type": "execute_result"
    }
   ],
   "source": [
    "X_new = SelectKBest(chi2, k = 14).fit_transform(scaled_df, y)\n",
    "X_new.shape"
   ]
  },
  {
   "cell_type": "markdown",
   "id": "b9462d09",
   "metadata": {},
   "source": [
    "### Splitting data into 80% Train , 10% Validation and 10% Test "
   ]
  },
  {
   "cell_type": "code",
   "execution_count": 18,
   "id": "a5bbdc88",
   "metadata": {},
   "outputs": [],
   "source": [
    "X_train, X_both, y_train, y_both = train_test_split(X_new, y, test_size = 0.2, random_state=3)\n",
    "X_test, X_valid, y_test, y_valid = train_test_split(X_both, y_both, test_size = 0.5, random_state=3)"
   ]
  },
  {
   "attachments": {
    "confusion.png": {
     "image/png": "[encoded data removed]"
    }
   },
   "cell_type": "markdown",
   "id": "2419cc1e",
   "metadata": {},
   "source": [
    "# Confusion Matrix Explanation\n",
    "![confusion.png](attachment:confusion.png)"
   ]
  },
  {
   "cell_type": "markdown",
   "id": "6676f68b",
   "metadata": {},
   "source": [
    "#### _TP (True Positive)_: when the actual is positive and we preditcted correctly\n",
    "#### _TN (True Negative)_: when the actual is negative and we predicted correctly\n",
    "#### _FN (False Negative)_: when the actual is negative and we predicted incorrectly\n",
    "#### _FP (False Positive)_: when the actual is positive and we predicted incorrectly"
   ]
  },
  {
   "cell_type": "markdown",
   "id": "eaedbc49",
   "metadata": {},
   "source": [
    "# KNeighbors Classifier"
   ]
  },
  {
   "cell_type": "markdown",
   "id": "e985362d",
   "metadata": {},
   "source": [
    "### Validation with a random N"
   ]
  },
  {
   "cell_type": "code",
   "execution_count": 19,
   "id": "b70ae432",
   "metadata": {},
   "outputs": [
    {
     "name": "stdout",
     "output_type": "stream",
     "text": [
      "[[77  4]\n",
      " [ 3  3]]\n",
      "              precision    recall  f1-score   support\n",
      "\n",
      "           0       0.96      0.95      0.96        81\n",
      "           1       0.43      0.50      0.46         6\n",
      "\n",
      "    accuracy                           0.92        87\n",
      "   macro avg       0.70      0.73      0.71        87\n",
      "weighted avg       0.93      0.92      0.92        87\n",
      "\n"
     ]
    }
   ],
   "source": [
    "knn = KNeighborsClassifier(n_neighbors=5)\n",
    "knn.fit(X_train, y_train)\n",
    "y_pred = knn.predict(X_valid)\n",
    "print(confusion_matrix(y_valid, y_pred))\n",
    "print(classification_report(y_valid, y_pred))"
   ]
  },
  {
   "cell_type": "markdown",
   "id": "9d3b82da",
   "metadata": {},
   "source": [
    "The True Positive is **77** out of **81** and the True Negative is **3** out of **6**\n",
    "\n",
    "Which results in an accuracy of **0.92**"
   ]
  },
  {
   "cell_type": "code",
   "execution_count": 20,
   "id": "3a329d5d",
   "metadata": {},
   "outputs": [
    {
     "data": {
      "text/plain": [
       "0.4615384615384615"
      ]
     },
     "execution_count": 20,
     "metadata": {},
     "output_type": "execute_result"
    }
   ],
   "source": [
    "f1_score(y_valid, y_pred, average='binary') "
   ]
  },
  {
   "cell_type": "markdown",
   "id": "7c07148d",
   "metadata": {},
   "source": [
    "Which makes the **F1 score** equal to **0.46** for the positive class"
   ]
  },
  {
   "cell_type": "markdown",
   "id": "8e7318ed",
   "metadata": {},
   "source": [
    "### Finding best N by Cross Val score"
   ]
  },
  {
   "cell_type": "code",
   "execution_count": 21,
   "id": "e93f92e7",
   "metadata": {
    "scrolled": true
   },
   "outputs": [
    {
     "name": "stdout",
     "output_type": "stream",
     "text": [
      "The best N is 1 with value 0.9244671781756182\n"
     ]
    }
   ],
   "source": [
    "neighbors = np.arange(1, 10)\n",
    "y_list = []\n",
    "# Loop over K values\n",
    "for i, k in enumerate(neighbors):\n",
    "    knn = KNeighborsClassifier(n_neighbors=k)\n",
    "    y_pred = cross_val_score(knn, X_train, y_train, cv=10).mean()\n",
    "    y_list.append(y_pred)\n",
    "    if y_pred >= max(y_list):\n",
    "        max_N = k\n",
    "    \n",
    "print(f\"The best N is {max_N} with value {max(y_list)}\")    \n"
   ]
  },
  {
   "cell_type": "markdown",
   "id": "6813699d",
   "metadata": {},
   "source": [
    "### Validation with the best N"
   ]
  },
  {
   "cell_type": "code",
   "execution_count": 22,
   "id": "e581bf6b",
   "metadata": {
    "scrolled": true
   },
   "outputs": [
    {
     "name": "stdout",
     "output_type": "stream",
     "text": [
      "[[76  5]\n",
      " [ 0  6]]\n",
      "              precision    recall  f1-score   support\n",
      "\n",
      "           0       1.00      0.94      0.97        81\n",
      "           1       0.55      1.00      0.71         6\n",
      "\n",
      "    accuracy                           0.94        87\n",
      "   macro avg       0.77      0.97      0.84        87\n",
      "weighted avg       0.97      0.94      0.95        87\n",
      "\n"
     ]
    }
   ],
   "source": [
    "knn = KNeighborsClassifier(n_neighbors=1, algorithm = 'brute')\n",
    "knn.fit(X_train, y_train)\n",
    "y_pred = knn.predict(X_valid)\n",
    "print(confusion_matrix(y_valid, y_pred))\n",
    "print(classification_report(y_valid, y_pred))"
   ]
  },
  {
   "cell_type": "markdown",
   "id": "f196144c",
   "metadata": {},
   "source": [
    "The True Positive is **76** out of **81** and the True Negative is **6** out of **6**\n",
    "\n",
    "Which results in an accuracy of **0.94**"
   ]
  },
  {
   "cell_type": "code",
   "execution_count": 23,
   "id": "5825fc5a",
   "metadata": {},
   "outputs": [
    {
     "data": {
      "text/plain": [
       "0.7058823529411764"
      ]
     },
     "execution_count": 23,
     "metadata": {},
     "output_type": "execute_result"
    }
   ],
   "source": [
    "f1_score(y_valid, y_pred, average='binary') "
   ]
  },
  {
   "cell_type": "markdown",
   "id": "3b16aa10",
   "metadata": {},
   "source": [
    "Which makes the **F1 score** equal to **0.71** for the positive class"
   ]
  },
  {
   "cell_type": "markdown",
   "id": "821b2fdf",
   "metadata": {},
   "source": [
    "# Logistic Regression Classifier"
   ]
  },
  {
   "cell_type": "markdown",
   "id": "7e88d875",
   "metadata": {},
   "source": [
    "### Validation before tuning"
   ]
  },
  {
   "cell_type": "code",
   "execution_count": 24,
   "id": "639ccf04",
   "metadata": {},
   "outputs": [
    {
     "data": {
      "text/plain": [
       "LogisticRegression()"
      ]
     },
     "execution_count": 24,
     "metadata": {},
     "output_type": "execute_result"
    }
   ],
   "source": [
    "lr = LogisticRegression(solver='lbfgs')\n",
    "lr.fit(X_train, y_train)"
   ]
  },
  {
   "cell_type": "code",
   "execution_count": 25,
   "id": "5ea809cb",
   "metadata": {},
   "outputs": [
    {
     "name": "stdout",
     "output_type": "stream",
     "text": [
      "[[80  1]\n",
      " [ 6  0]]\n",
      "              precision    recall  f1-score   support\n",
      "\n",
      "           0       0.93      0.99      0.96        81\n",
      "           1       0.00      0.00      0.00         6\n",
      "\n",
      "    accuracy                           0.92        87\n",
      "   macro avg       0.47      0.49      0.48        87\n",
      "weighted avg       0.87      0.92      0.89        87\n",
      "\n"
     ]
    }
   ],
   "source": [
    "y_pred = lr.predict(X_valid)\n",
    "print(confusion_matrix(y_valid, y_pred))\n",
    "print(classification_report(y_valid, y_pred))"
   ]
  },
  {
   "cell_type": "markdown",
   "id": "c8b6b089",
   "metadata": {},
   "source": [
    "The True Positive is **80** out of **81** and the True Negative is **0** out of **6**\n",
    "\n",
    "\n",
    "Which results in an accuracy of **0.92**"
   ]
  },
  {
   "cell_type": "code",
   "execution_count": 26,
   "id": "5b069501",
   "metadata": {},
   "outputs": [
    {
     "data": {
      "text/plain": [
       "0.0"
      ]
     },
     "execution_count": 26,
     "metadata": {},
     "output_type": "execute_result"
    }
   ],
   "source": [
    "f1_score(y_valid, y_pred, average='binary') "
   ]
  },
  {
   "cell_type": "markdown",
   "id": "3554d7ad",
   "metadata": {},
   "source": [
    "Which makes the **F1 score** equal to **0** for the positive class\n"
   ]
  },
  {
   "cell_type": "markdown",
   "id": "f63fb840",
   "metadata": {},
   "source": [
    "### Tuning the hyperparameters"
   ]
  },
  {
   "cell_type": "code",
   "execution_count": 27,
   "id": "8159e499",
   "metadata": {},
   "outputs": [
    {
     "name": "stdout",
     "output_type": "stream",
     "text": [
      "Fitting 7 folds for each of 36 candidates, totalling 252 fits\n"
     ]
    },
    {
     "data": {
      "text/plain": [
       "LogisticRegression(C=1000, penalty='l1', solver='liblinear')"
      ]
     },
     "execution_count": 27,
     "metadata": {},
     "output_type": "execute_result"
    }
   ],
   "source": [
    "LR = LogisticRegression()\n",
    "LRparam_grid = {\n",
    "    'C': [0.01, 0.1, 1, 10, 100, 1000],\n",
    "    'penalty': ['none','l1', 'l2'],\n",
    "    'solver': ['lbfgs', 'liblinear']\n",
    "}\n",
    "LR_search = GridSearchCV(LR, param_grid = LRparam_grid, refit = True, verbose = 1, cv=7)\n",
    "\n",
    "# fitting the model for grid search \n",
    "LR_search.fit(X_train , y_train)\n",
    "LR_search.best_params_\n",
    "\n",
    "paralist = []\n",
    "paralist = list(LR_search.best_params_.values())\n",
    "\n",
    "lr = LogisticRegression(C= paralist[0] , penalty= paralist[1], solver= paralist[2])\n",
    "lr.fit(X_train, y_train)"
   ]
  },
  {
   "cell_type": "markdown",
   "id": "db966abb",
   "metadata": {},
   "source": [
    "### Validation after tuning"
   ]
  },
  {
   "cell_type": "code",
   "execution_count": 28,
   "id": "e3eca557",
   "metadata": {
    "scrolled": true
   },
   "outputs": [
    {
     "name": "stdout",
     "output_type": "stream",
     "text": [
      "[[80  1]\n",
      " [ 1  5]]\n",
      "              precision    recall  f1-score   support\n",
      "\n",
      "           0       0.99      0.99      0.99        81\n",
      "           1       0.83      0.83      0.83         6\n",
      "\n",
      "    accuracy                           0.98        87\n",
      "   macro avg       0.91      0.91      0.91        87\n",
      "weighted avg       0.98      0.98      0.98        87\n",
      "\n"
     ]
    }
   ],
   "source": [
    "y_pred = lr.predict(X_valid)\n",
    "print(confusion_matrix(y_valid, y_pred))\n",
    "print(classification_report(y_valid, y_pred))"
   ]
  },
  {
   "cell_type": "markdown",
   "id": "fbd2eb1e",
   "metadata": {},
   "source": [
    "The True Positive is **80** out of **81** and the True Negative is **5** out of **6**\n",
    "\n",
    "\n",
    "Which results in an accuracy of **0.98**"
   ]
  },
  {
   "cell_type": "code",
   "execution_count": 29,
   "id": "cd2b78b7",
   "metadata": {},
   "outputs": [
    {
     "data": {
      "text/plain": [
       "0.8333333333333334"
      ]
     },
     "execution_count": 29,
     "metadata": {},
     "output_type": "execute_result"
    }
   ],
   "source": [
    "f1_score(y_valid, y_pred, average='binary') "
   ]
  },
  {
   "cell_type": "markdown",
   "id": "c4a1cd97",
   "metadata": {},
   "source": [
    "Which makes the **F1 score** equal to **0.83** for the positive class\n"
   ]
  },
  {
   "cell_type": "markdown",
   "id": "744242ee",
   "metadata": {},
   "source": [
    "# Naïve Bayes Classifier"
   ]
  },
  {
   "cell_type": "markdown",
   "id": "d05f4482",
   "metadata": {},
   "source": [
    "### Validation before tuning"
   ]
  },
  {
   "cell_type": "code",
   "execution_count": 30,
   "id": "01b3e9f1",
   "metadata": {
    "scrolled": false
   },
   "outputs": [
    {
     "data": {
      "text/plain": [
       "GaussianNB()"
      ]
     },
     "execution_count": 30,
     "metadata": {},
     "output_type": "execute_result"
    }
   ],
   "source": [
    "gnb = GaussianNB()\n",
    "gnb.fit(X_train, y_train)"
   ]
  },
  {
   "cell_type": "code",
   "execution_count": 31,
   "id": "50fd03ea",
   "metadata": {},
   "outputs": [
    {
     "name": "stdout",
     "output_type": "stream",
     "text": [
      "[[81  0]\n",
      " [ 4  2]]\n",
      "              precision    recall  f1-score   support\n",
      "\n",
      "           0       0.95      1.00      0.98        81\n",
      "           1       1.00      0.33      0.50         6\n",
      "\n",
      "    accuracy                           0.95        87\n",
      "   macro avg       0.98      0.67      0.74        87\n",
      "weighted avg       0.96      0.95      0.94        87\n",
      "\n"
     ]
    }
   ],
   "source": [
    "y_pred = gnb.predict(X_valid)\n",
    "print(confusion_matrix(y_valid, y_pred))\n",
    "print(classification_report(y_valid, y_pred))"
   ]
  },
  {
   "cell_type": "markdown",
   "id": "f1188dde",
   "metadata": {},
   "source": [
    "The True Positive is **81** out of **81** and the True Negative is **2** out of **6**\n",
    "\n",
    "\n",
    "Which results in an accuracy of **0.95**"
   ]
  },
  {
   "cell_type": "code",
   "execution_count": 32,
   "id": "f174ef49",
   "metadata": {
    "scrolled": true
   },
   "outputs": [
    {
     "data": {
      "text/plain": [
       "0.5"
      ]
     },
     "execution_count": 32,
     "metadata": {},
     "output_type": "execute_result"
    }
   ],
   "source": [
    "f1_score(y_valid, y_pred, average='binary') "
   ]
  },
  {
   "cell_type": "markdown",
   "id": "dce57231",
   "metadata": {},
   "source": [
    "Which makes the **F1 score** equal to **0.50** for the positive class\n"
   ]
  },
  {
   "cell_type": "markdown",
   "id": "db5af162",
   "metadata": {},
   "source": [
    "### Tuning the hyperparameters"
   ]
  },
  {
   "cell_type": "code",
   "execution_count": 33,
   "id": "0b7d0f87",
   "metadata": {},
   "outputs": [
    {
     "name": "stdout",
     "output_type": "stream",
     "text": [
      "Fitting 5 folds for each of 100 candidates, totalling 500 fits\n"
     ]
    }
   ],
   "source": [
    "nb_classifier = GaussianNB()\n",
    "\n",
    "params_NB = {'var_smoothing': np.logspace(0,-9, num=100)}\n",
    "gs_NB = GridSearchCV(estimator=nb_classifier, param_grid = params_NB, verbose=1, scoring='accuracy') \n",
    "gs_NB.fit(X_train, y_train)\n",
    "\n",
    "var_value = gs_NB.best_params_.get('var_smoothing')\n",
    "gnb = GaussianNB(var_smoothing = var_value)"
   ]
  },
  {
   "cell_type": "markdown",
   "id": "c5c73e46",
   "metadata": {},
   "source": [
    "### Validation after tuning"
   ]
  },
  {
   "cell_type": "code",
   "execution_count": 34,
   "id": "63b15bda",
   "metadata": {},
   "outputs": [
    {
     "name": "stdout",
     "output_type": "stream",
     "text": [
      "[[78  3]\n",
      " [ 1  5]]\n",
      "              precision    recall  f1-score   support\n",
      "\n",
      "           0       0.99      0.96      0.97        81\n",
      "           1       0.62      0.83      0.71         6\n",
      "\n",
      "    accuracy                           0.95        87\n",
      "   macro avg       0.81      0.90      0.84        87\n",
      "weighted avg       0.96      0.95      0.96        87\n",
      "\n"
     ]
    }
   ],
   "source": [
    "gnb.fit(X_train, y_train)\n",
    "y_pred = gnb.predict(X_valid)\n",
    "print(confusion_matrix(y_valid, y_pred))\n",
    "print(classification_report(y_valid, y_pred))"
   ]
  },
  {
   "cell_type": "markdown",
   "id": "ffca1fcc",
   "metadata": {},
   "source": [
    "The True Positive is **78** out of **81** and the True Negative is **5** out of **6**\n",
    "\n",
    "\n",
    "Which results in an accuracy of **0.95**"
   ]
  },
  {
   "cell_type": "code",
   "execution_count": 35,
   "id": "5734e3d6",
   "metadata": {},
   "outputs": [
    {
     "data": {
      "text/plain": [
       "0.7142857142857143"
      ]
     },
     "execution_count": 35,
     "metadata": {},
     "output_type": "execute_result"
    }
   ],
   "source": [
    "f1_score(y_valid, y_pred, average='binary') "
   ]
  },
  {
   "cell_type": "markdown",
   "id": "a44ecc1b",
   "metadata": {},
   "source": [
    "Which makes the **F1 score** equal to **0.71** for the positive class\n"
   ]
  },
  {
   "cell_type": "markdown",
   "id": "5eca5493",
   "metadata": {},
   "source": [
    "# Decision Tree"
   ]
  },
  {
   "cell_type": "markdown",
   "id": "22838f0b",
   "metadata": {},
   "source": [
    "### Validation before tuning"
   ]
  },
  {
   "cell_type": "code",
   "execution_count": 36,
   "id": "1d2c0a3b",
   "metadata": {},
   "outputs": [],
   "source": [
    "from sklearn.tree import DecisionTreeClassifier\n",
    "from sklearn.tree import export_graphviz\n",
    "from six import StringIO\n",
    "from IPython.display import Image\n",
    "import pydotplus"
   ]
  },
  {
   "cell_type": "code",
   "execution_count": 37,
   "id": "32f00108",
   "metadata": {},
   "outputs": [
    {
     "data": {
      "text/plain": [
       "DecisionTreeClassifier(criterion='entropy', random_state=3)"
      ]
     },
     "execution_count": 37,
     "metadata": {},
     "output_type": "execute_result"
    }
   ],
   "source": [
    "dtree = DecisionTreeClassifier(criterion = \"entropy\", random_state=3)\n",
    "dtree.fit(X_train, y_train)"
   ]
  },
  {
   "cell_type": "code",
   "execution_count": 38,
   "id": "176439ab",
   "metadata": {
    "scrolled": true
   },
   "outputs": [
    {
     "name": "stdout",
     "output_type": "stream",
     "text": [
      "[[77  4]\n",
      " [ 1  5]]\n",
      "              precision    recall  f1-score   support\n",
      "\n",
      "           0       0.99      0.95      0.97        81\n",
      "           1       0.56      0.83      0.67         6\n",
      "\n",
      "    accuracy                           0.94        87\n",
      "   macro avg       0.77      0.89      0.82        87\n",
      "weighted avg       0.96      0.94      0.95        87\n",
      "\n"
     ]
    }
   ],
   "source": [
    "y_pred = dtree.predict(X_valid)\n",
    "print(confusion_matrix(y_valid, y_pred))\n",
    "print(classification_report(y_valid, y_pred))"
   ]
  },
  {
   "cell_type": "code",
   "execution_count": 39,
   "id": "1a8da6a2",
   "metadata": {},
   "outputs": [
    {
     "data": {
      "text/plain": [
       "0.6666666666666667"
      ]
     },
     "execution_count": 39,
     "metadata": {},
     "output_type": "execute_result"
    }
   ],
   "source": [
    "f1_score(y_valid, y_pred, average='binary') "
   ]
  },
  {
   "cell_type": "markdown",
   "id": "0d949900",
   "metadata": {},
   "source": [
    "### Tuning the hyperparameters"
   ]
  },
  {
   "cell_type": "code",
   "execution_count": 40,
   "id": "d1e64d59",
   "metadata": {},
   "outputs": [
    {
     "name": "stdout",
     "output_type": "stream",
     "text": [
      "Fitting 7 folds for each of 196 candidates, totalling 1372 fits\n"
     ]
    },
    {
     "data": {
      "text/plain": [
       "DecisionTreeClassifier(criterion='entropy', max_depth=4, max_features=7,\n",
       "                       random_state=3)"
      ]
     },
     "execution_count": 40,
     "metadata": {},
     "output_type": "execute_result"
    }
   ],
   "source": [
    "LRparam_grid = {\n",
    "    'max_depth': np.arange(1,15),\n",
    "    'max_features': np.arange(1,15),\n",
    "    'random_state': [3]\n",
    "}\n",
    "LR_search = GridSearchCV(dtree, param_grid = LRparam_grid, refit = True, verbose = 1, cv=7)\n",
    "LR_search.fit(X_train , y_train)\n",
    "LR_search.best_params_\n",
    "\n",
    "paralist = []\n",
    "paralist = list(LR_search.best_params_.values())\n",
    "\n",
    "dtree = DecisionTreeClassifier(criterion = \"entropy\", max_depth= paralist[0], max_features =paralist[1], random_state=3)\n",
    "dtree.fit(X_train, y_train)"
   ]
  },
  {
   "cell_type": "markdown",
   "id": "ec9e1c98",
   "metadata": {},
   "source": [
    "### Validation after tuning"
   ]
  },
  {
   "cell_type": "code",
   "execution_count": 41,
   "id": "78fb1964",
   "metadata": {},
   "outputs": [
    {
     "name": "stdout",
     "output_type": "stream",
     "text": [
      "[[78  3]\n",
      " [ 0  6]]\n",
      "              precision    recall  f1-score   support\n",
      "\n",
      "           0       1.00      0.96      0.98        81\n",
      "           1       0.67      1.00      0.80         6\n",
      "\n",
      "    accuracy                           0.97        87\n",
      "   macro avg       0.83      0.98      0.89        87\n",
      "weighted avg       0.98      0.97      0.97        87\n",
      "\n"
     ]
    }
   ],
   "source": [
    "y_pred = dtree.predict(X_valid)\n",
    "print(confusion_matrix(y_valid, y_pred))\n",
    "print(classification_report(y_valid, y_pred))"
   ]
  },
  {
   "cell_type": "code",
   "execution_count": 42,
   "id": "36bc2454",
   "metadata": {},
   "outputs": [
    {
     "data": {
      "text/plain": [
       "0.8"
      ]
     },
     "execution_count": 42,
     "metadata": {},
     "output_type": "execute_result"
    }
   ],
   "source": [
    "f1_score(y_valid, y_pred, average='binary') "
   ]
  },
  {
   "cell_type": "code",
   "execution_count": 43,
   "id": "c992a020",
   "metadata": {},
   "outputs": [
    {
     "data": {
      "image/png": "[encoded data removed]",
      "text/plain": [
       "<IPython.core.display.Image object>"
      ]
     },
     "execution_count": 43,
     "metadata": {},
     "output_type": "execute_result"
    }
   ],
   "source": [
    "dot_data = StringIO()\n",
    "export_graphviz(dtree, out_file = dot_data, rounded = True, filled = True, special_characters = True)\n",
    "graph = pydotplus.graph_from_dot_data(dot_data.getvalue())\n",
    "graph.write_png(\"dtree.png\")\n",
    "Image(graph.create_png())"
   ]
  },
  {
   "cell_type": "markdown",
   "id": "97e3ea9e",
   "metadata": {},
   "source": [
    "# Support Vector Machine"
   ]
  },
  {
   "cell_type": "markdown",
   "id": "99929123",
   "metadata": {},
   "source": [
    "### Validation before tuning"
   ]
  },
  {
   "cell_type": "code",
   "execution_count": 44,
   "id": "201efbf3",
   "metadata": {},
   "outputs": [
    {
     "data": {
      "text/plain": [
       "SVC()"
      ]
     },
     "execution_count": 44,
     "metadata": {},
     "output_type": "execute_result"
    }
   ],
   "source": [
    "from sklearn.svm import SVC\n",
    "svc = SVC()\n",
    "svc.fit(X_train, y_train)"
   ]
  },
  {
   "cell_type": "code",
   "execution_count": 45,
   "id": "8a152132",
   "metadata": {},
   "outputs": [
    {
     "name": "stdout",
     "output_type": "stream",
     "text": [
      "[[81  0]\n",
      " [ 6  0]]\n",
      "              precision    recall  f1-score   support\n",
      "\n",
      "           0       0.93      1.00      0.96        81\n",
      "           1       0.00      0.00      0.00         6\n",
      "\n",
      "    accuracy                           0.93        87\n",
      "   macro avg       0.47      0.50      0.48        87\n",
      "weighted avg       0.87      0.93      0.90        87\n",
      "\n"
     ]
    }
   ],
   "source": [
    "y_pred = svc.predict(X_valid)\n",
    "print(confusion_matrix(y_valid, y_pred))\n",
    "print(classification_report(y_valid, y_pred))"
   ]
  },
  {
   "cell_type": "code",
   "execution_count": 46,
   "id": "0b150c34",
   "metadata": {},
   "outputs": [
    {
     "data": {
      "text/plain": [
       "0.0"
      ]
     },
     "execution_count": 46,
     "metadata": {},
     "output_type": "execute_result"
    }
   ],
   "source": [
    "f1_score(y_valid, y_pred, average='binary')"
   ]
  },
  {
   "cell_type": "markdown",
   "id": "4c5d7e58",
   "metadata": {},
   "source": [
    "### Tuning the hyperparameters"
   ]
  },
  {
   "cell_type": "code",
   "execution_count": 47,
   "id": "7fbaae6e",
   "metadata": {},
   "outputs": [
    {
     "name": "stdout",
     "output_type": "stream",
     "text": [
      "Fitting 4 folds for each of 348 candidates, totalling 1392 fits\n"
     ]
    },
    {
     "data": {
      "text/plain": [
       "SVC(C=1, degree=21, kernel='poly', random_state=3)"
      ]
     },
     "execution_count": 47,
     "metadata": {},
     "output_type": "execute_result"
    }
   ],
   "source": [
    "LRparam_grid = {\n",
    "    'kernel': ['poly','rbf','sigmoid'],\n",
    "    'degree': np.arange(1,30),\n",
    "    'random_state':[3],\n",
    "    'C': np.arange(0,2),\n",
    "    'gamma':['scale', 'auto']\n",
    "}\n",
    "LR_search = GridSearchCV(svc, param_grid = LRparam_grid, refit = True, verbose = 1, cv=4)\n",
    "LR_search.fit(X_train , y_train)\n",
    "LR_search.best_params_\n",
    "\n",
    "paralist = []\n",
    "paralist = list(LR_search.best_params_.values())\n",
    "\n",
    "svc = SVC(C =paralist[0], degree= paralist[1], gamma=paralist[2], kernel = paralist[3], random_state=3)\n",
    "svc.fit(X_train, y_train)"
   ]
  },
  {
   "cell_type": "markdown",
   "id": "c3156970",
   "metadata": {},
   "source": [
    "### Validation after tuning"
   ]
  },
  {
   "cell_type": "code",
   "execution_count": 48,
   "id": "f7adb088",
   "metadata": {},
   "outputs": [
    {
     "name": "stdout",
     "output_type": "stream",
     "text": [
      "[[79  2]\n",
      " [ 0  6]]\n",
      "              precision    recall  f1-score   support\n",
      "\n",
      "           0       1.00      0.98      0.99        81\n",
      "           1       0.75      1.00      0.86         6\n",
      "\n",
      "    accuracy                           0.98        87\n",
      "   macro avg       0.88      0.99      0.92        87\n",
      "weighted avg       0.98      0.98      0.98        87\n",
      "\n"
     ]
    }
   ],
   "source": [
    "y_pred = svc.predict(X_valid)\n",
    "print(confusion_matrix(y_valid, y_pred))\n",
    "print(classification_report(y_valid, y_pred))"
   ]
  },
  {
   "cell_type": "code",
   "execution_count": 49,
   "id": "8177ef18",
   "metadata": {},
   "outputs": [
    {
     "data": {
      "text/plain": [
       "0.8571428571428571"
      ]
     },
     "execution_count": 49,
     "metadata": {},
     "output_type": "execute_result"
    }
   ],
   "source": [
    "f1_score(y_valid, y_pred, average='binary')"
   ]
  },
  {
   "cell_type": "markdown",
   "id": "9383b29e",
   "metadata": {},
   "source": [
    "# Testing Algorithms\n"
   ]
  },
  {
   "cell_type": "markdown",
   "id": "232efa59",
   "metadata": {},
   "source": [
    "### Testing KNN"
   ]
  },
  {
   "cell_type": "code",
   "execution_count": 50,
   "id": "d550bff5",
   "metadata": {
    "scrolled": true
   },
   "outputs": [
    {
     "name": "stdout",
     "output_type": "stream",
     "text": [
      "[[69  5]\n",
      " [ 3  9]]\n",
      "              precision    recall  f1-score   support\n",
      "\n",
      "           0       0.96      0.93      0.95        74\n",
      "           1       0.64      0.75      0.69        12\n",
      "\n",
      "    accuracy                           0.91        86\n",
      "   macro avg       0.80      0.84      0.82        86\n",
      "weighted avg       0.91      0.91      0.91        86\n",
      "\n"
     ]
    }
   ],
   "source": [
    "y_pred = knn.predict(X_test)\n",
    "print(confusion_matrix(y_test, y_pred))\n",
    "print(classification_report(y_test, y_pred))"
   ]
  },
  {
   "cell_type": "markdown",
   "id": "7eb7c681",
   "metadata": {},
   "source": [
    "The True Positive is **69** out of **74** and the True Negative is **9** out of **12**\n",
    "\n",
    "\n",
    "Which results in an accuracy of **0.91**"
   ]
  },
  {
   "cell_type": "code",
   "execution_count": 51,
   "id": "833e2f0e",
   "metadata": {},
   "outputs": [
    {
     "data": {
      "text/plain": [
       "0.6923076923076924"
      ]
     },
     "execution_count": 51,
     "metadata": {},
     "output_type": "execute_result"
    }
   ],
   "source": [
    "f1_score(y_test, y_pred, average='binary') "
   ]
  },
  {
   "cell_type": "markdown",
   "id": "a90f564a",
   "metadata": {},
   "source": [
    "Which makes the **F1 score** equal to **0.69** for the positive class\n"
   ]
  },
  {
   "cell_type": "code",
   "execution_count": 52,
   "id": "cb529f95",
   "metadata": {},
   "outputs": [
    {
     "data": {
      "image/png": "[encoded data removed]",
      "text/plain": [
       "<Figure size 432x288 with 1 Axes>"
      ]
     },
     "metadata": {
      "needs_background": "light"
     },
     "output_type": "display_data"
    }
   ],
   "source": [
    "metrics.plot_roc_curve(knn, X_test, y_test)\n",
    "plt.show()"
   ]
  },
  {
   "cell_type": "code",
   "execution_count": 53,
   "id": "74d35729",
   "metadata": {},
   "outputs": [
    {
     "data": {
      "text/plain": [
       "0.8412162162162162"
      ]
     },
     "execution_count": 53,
     "metadata": {},
     "output_type": "execute_result"
    }
   ],
   "source": [
    "roc_auc_score(y_test.to_numpy(), y_pred)"
   ]
  },
  {
   "cell_type": "markdown",
   "id": "2cd6936a",
   "metadata": {},
   "source": [
    "### Testing LR"
   ]
  },
  {
   "cell_type": "code",
   "execution_count": 54,
   "id": "ed8ae842",
   "metadata": {
    "scrolled": true
   },
   "outputs": [
    {
     "name": "stdout",
     "output_type": "stream",
     "text": [
      "[[74  0]\n",
      " [ 4  8]]\n",
      "              precision    recall  f1-score   support\n",
      "\n",
      "           0       0.95      1.00      0.97        74\n",
      "           1       1.00      0.67      0.80        12\n",
      "\n",
      "    accuracy                           0.95        86\n",
      "   macro avg       0.97      0.83      0.89        86\n",
      "weighted avg       0.96      0.95      0.95        86\n",
      "\n"
     ]
    }
   ],
   "source": [
    "y_pred = lr.predict(X_test)\n",
    "print(confusion_matrix(y_test, y_pred))\n",
    "print(classification_report(y_test, y_pred))"
   ]
  },
  {
   "cell_type": "markdown",
   "id": "066110bf",
   "metadata": {},
   "source": [
    "The True Positive is **74** out of **74** and the True Negative is **8** out of **12**\n",
    "\n",
    "\n",
    "Which results in an accuracy of **0.94**"
   ]
  },
  {
   "cell_type": "code",
   "execution_count": 55,
   "id": "1be88f0f",
   "metadata": {},
   "outputs": [
    {
     "data": {
      "text/plain": [
       "0.8"
      ]
     },
     "execution_count": 55,
     "metadata": {},
     "output_type": "execute_result"
    }
   ],
   "source": [
    "f1_score(y_test, y_pred, average='binary') "
   ]
  },
  {
   "cell_type": "markdown",
   "id": "ef8308be",
   "metadata": {},
   "source": [
    "Which makes the **F1 score** equal to **0.76** for the positive class\n"
   ]
  },
  {
   "cell_type": "code",
   "execution_count": 56,
   "id": "088586f2",
   "metadata": {},
   "outputs": [
    {
     "data": {
      "text/plain": [
       "<sklearn.metrics._plot.roc_curve.RocCurveDisplay at 0x1f675770be0>"
      ]
     },
     "execution_count": 56,
     "metadata": {},
     "output_type": "execute_result"
    },
    {
     "data": {
      "image/png": "[encoded data removed]",
      "text/plain": [
       "<Figure size 432x288 with 1 Axes>"
      ]
     },
     "metadata": {
      "needs_background": "light"
     },
     "output_type": "display_data"
    }
   ],
   "source": [
    "metrics.plot_roc_curve(lr, X_test, y_test)"
   ]
  },
  {
   "cell_type": "code",
   "execution_count": 57,
   "id": "d731e26e",
   "metadata": {},
   "outputs": [
    {
     "data": {
      "text/plain": [
       "0.8333333333333333"
      ]
     },
     "execution_count": 57,
     "metadata": {},
     "output_type": "execute_result"
    }
   ],
   "source": [
    "roc_auc_score(y_test.to_numpy(), y_pred)"
   ]
  },
  {
   "cell_type": "markdown",
   "id": "6276a5f6",
   "metadata": {},
   "source": [
    "### Testing GNB"
   ]
  },
  {
   "cell_type": "code",
   "execution_count": 58,
   "id": "2b5f44ee",
   "metadata": {},
   "outputs": [
    {
     "name": "stdout",
     "output_type": "stream",
     "text": [
      "[[71  3]\n",
      " [ 2 10]]\n",
      "              precision    recall  f1-score   support\n",
      "\n",
      "           0       0.97      0.96      0.97        74\n",
      "           1       0.77      0.83      0.80        12\n",
      "\n",
      "    accuracy                           0.94        86\n",
      "   macro avg       0.87      0.90      0.88        86\n",
      "weighted avg       0.94      0.94      0.94        86\n",
      "\n"
     ]
    }
   ],
   "source": [
    "y_pred = gnb.predict(X_test)\n",
    "print(confusion_matrix(y_test, y_pred))\n",
    "print(classification_report(y_test, y_pred))"
   ]
  },
  {
   "cell_type": "markdown",
   "id": "f4e7e673",
   "metadata": {},
   "source": [
    "The True Positive is **71** out of **74** and the True Negative is **10** out of **12**\n",
    "\n",
    "\n",
    "Which results in an accuracy of **0.94**"
   ]
  },
  {
   "cell_type": "code",
   "execution_count": 59,
   "id": "2b63da49",
   "metadata": {},
   "outputs": [
    {
     "data": {
      "text/plain": [
       "0.8"
      ]
     },
     "execution_count": 59,
     "metadata": {},
     "output_type": "execute_result"
    }
   ],
   "source": [
    "f1_score(y_test, y_pred, average='binary') "
   ]
  },
  {
   "cell_type": "markdown",
   "id": "d3427e29",
   "metadata": {},
   "source": [
    "Which makes the **F1 score** equal to **0.80** for the positive class\n"
   ]
  },
  {
   "cell_type": "code",
   "execution_count": 60,
   "id": "528bf1b2",
   "metadata": {},
   "outputs": [
    {
     "data": {
      "text/plain": [
       "<sklearn.metrics._plot.roc_curve.RocCurveDisplay at 0x1f6758c6b20>"
      ]
     },
     "execution_count": 60,
     "metadata": {},
     "output_type": "execute_result"
    },
    {
     "data": {
      "image/png": "[encoded data removed]",
      "text/plain": [
       "<Figure size 432x288 with 1 Axes>"
      ]
     },
     "metadata": {
      "needs_background": "light"
     },
     "output_type": "display_data"
    }
   ],
   "source": [
    "metrics.plot_roc_curve(gnb, X_test, y_test)"
   ]
  },
  {
   "cell_type": "code",
   "execution_count": 61,
   "id": "75224f05",
   "metadata": {},
   "outputs": [
    {
     "data": {
      "text/plain": [
       "0.8963963963963965"
      ]
     },
     "execution_count": 61,
     "metadata": {},
     "output_type": "execute_result"
    }
   ],
   "source": [
    "roc_auc_score(y_test.to_numpy(), y_pred)"
   ]
  },
  {
   "cell_type": "markdown",
   "id": "5cda6501",
   "metadata": {},
   "source": [
    "### Testing Decision Tree"
   ]
  },
  {
   "cell_type": "code",
   "execution_count": 62,
   "id": "fdbd8eaa",
   "metadata": {},
   "outputs": [
    {
     "name": "stdout",
     "output_type": "stream",
     "text": [
      "[[70  4]\n",
      " [ 2 10]]\n",
      "              precision    recall  f1-score   support\n",
      "\n",
      "           0       0.97      0.95      0.96        74\n",
      "           1       0.71      0.83      0.77        12\n",
      "\n",
      "    accuracy                           0.93        86\n",
      "   macro avg       0.84      0.89      0.86        86\n",
      "weighted avg       0.94      0.93      0.93        86\n",
      "\n"
     ]
    }
   ],
   "source": [
    "y_pred = dtree.predict(X_test)\n",
    "print(confusion_matrix(y_test, y_pred))\n",
    "print(classification_report(y_test, y_pred))"
   ]
  },
  {
   "cell_type": "code",
   "execution_count": 63,
   "id": "c81005dd",
   "metadata": {},
   "outputs": [
    {
     "data": {
      "text/plain": [
       "0.7692307692307692"
      ]
     },
     "execution_count": 63,
     "metadata": {},
     "output_type": "execute_result"
    }
   ],
   "source": [
    "f1_score(y_test, y_pred, average='binary')"
   ]
  },
  {
   "cell_type": "code",
   "execution_count": 64,
   "id": "50dcffd3",
   "metadata": {
    "scrolled": true
   },
   "outputs": [
    {
     "data": {
      "text/plain": [
       "<sklearn.metrics._plot.roc_curve.RocCurveDisplay at 0x1f6758d02e0>"
      ]
     },
     "execution_count": 64,
     "metadata": {},
     "output_type": "execute_result"
    },
    {
     "data": {
      "image/png": "[encoded data removed]",
      "text/plain": [
       "<Figure size 432x288 with 1 Axes>"
      ]
     },
     "metadata": {
      "needs_background": "light"
     },
     "output_type": "display_data"
    }
   ],
   "source": [
    "metrics.plot_roc_curve(gnb, X_test, y_test)"
   ]
  },
  {
   "cell_type": "code",
   "execution_count": 65,
   "id": "e43abe4f",
   "metadata": {},
   "outputs": [
    {
     "data": {
      "text/plain": [
       "0.8896396396396397"
      ]
     },
     "execution_count": 65,
     "metadata": {},
     "output_type": "execute_result"
    }
   ],
   "source": [
    "roc_auc_score(y_test.to_numpy(), y_pred)"
   ]
  },
  {
   "cell_type": "markdown",
   "id": "20c565c5",
   "metadata": {},
   "source": [
    "### Testing Support Vector Machine"
   ]
  },
  {
   "cell_type": "code",
   "execution_count": 66,
   "id": "34429b45",
   "metadata": {},
   "outputs": [
    {
     "name": "stdout",
     "output_type": "stream",
     "text": [
      "[[72  2]\n",
      " [ 4  8]]\n",
      "              precision    recall  f1-score   support\n",
      "\n",
      "           0       0.95      0.97      0.96        74\n",
      "           1       0.80      0.67      0.73        12\n",
      "\n",
      "    accuracy                           0.93        86\n",
      "   macro avg       0.87      0.82      0.84        86\n",
      "weighted avg       0.93      0.93      0.93        86\n",
      "\n"
     ]
    }
   ],
   "source": [
    "y_pred = svc.predict(X_test)\n",
    "print(confusion_matrix(y_test, y_pred))\n",
    "print(classification_report(y_test, y_pred))"
   ]
  },
  {
   "cell_type": "code",
   "execution_count": 67,
   "id": "39db9445",
   "metadata": {},
   "outputs": [
    {
     "data": {
      "text/plain": [
       "0.7272727272727272"
      ]
     },
     "execution_count": 67,
     "metadata": {},
     "output_type": "execute_result"
    }
   ],
   "source": [
    "f1_score(y_test, y_pred, average='binary')"
   ]
  },
  {
   "cell_type": "code",
   "execution_count": 68,
   "id": "328ad2bd",
   "metadata": {},
   "outputs": [
    {
     "data": {
      "text/plain": [
       "<sklearn.metrics._plot.roc_curve.RocCurveDisplay at 0x1f675908e20>"
      ]
     },
     "execution_count": 68,
     "metadata": {},
     "output_type": "execute_result"
    },
    {
     "data": {
      "image/png": "[encoded data removed]",
      "text/plain": [
       "<Figure size 432x288 with 1 Axes>"
      ]
     },
     "metadata": {
      "needs_background": "light"
     },
     "output_type": "display_data"
    }
   ],
   "source": [
    "metrics.plot_roc_curve(gnb, X_test, y_test)"
   ]
  },
  {
   "cell_type": "code",
   "execution_count": 69,
   "id": "c7244026",
   "metadata": {},
   "outputs": [
    {
     "data": {
      "text/plain": [
       "0.8198198198198198"
      ]
     },
     "execution_count": 69,
     "metadata": {},
     "output_type": "execute_result"
    }
   ],
   "source": [
    "roc_auc_score(y_test.to_numpy(), y_pred)"
   ]
  },
  {
   "cell_type": "code",
   "execution_count": null,
   "id": "8062c6a2",
   "metadata": {},
   "outputs": [],
   "source": []
  }
 ],
 "metadata": {
  "kernelspec": {
   "display_name": "Python 3",
   "language": "python",
   "name": "python3"
  },
  "language_info": {
   "codemirror_mode": {
    "name": "ipython",
    "version": 3
   },
   "file_extension": ".py",
   "mimetype": "text/x-python",
   "name": "python",
   "nbconvert_exporter": "python",
   "pygments_lexer": "ipython3",
   "version": "3.8.8"
  }
 },
 "nbformat": 4,
 "nbformat_minor": 5
}
